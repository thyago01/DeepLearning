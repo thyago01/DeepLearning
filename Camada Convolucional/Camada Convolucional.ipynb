{
 "cells": [
  {
   "cell_type": "code",
   "execution_count": 1,
   "metadata": {},
   "outputs": [
    {
     "name": "stderr",
     "output_type": "stream",
     "text": [
      "/home/thyago01/miniconda3/envs/dl-ufpb/lib/python3.6/site-packages/skimage/viewer/utils/core.py:10: UserWarning: Recommended matplotlib backend is `Agg` for full skimage.viewer functionality.\n",
      "  warn(\"Recommended matplotlib backend is `Agg` for full \"\n"
     ]
    }
   ],
   "source": [
    "import numpy as np\n",
    "from skimage import io, viewer, color\n",
    "import matplotlib.pyplot as plt\n",
    "import math\n",
    "%matplotlib inline"
   ]
  },
  {
   "cell_type": "markdown",
   "metadata": {},
   "source": [
    "<h1>Deep Learning - Camada convolucional</h1>\n",
    "<p>Neste trabalho, iremos entender como funciona uma camada convolucional simples. Fazendo convoluções em imagens Dw x Df x C com viés, função de ativação, zero padding e stride.</p>"
   ]
  },
  {
   "cell_type": "code",
   "execution_count": 2,
   "metadata": {},
   "outputs": [],
   "source": [
    "\"\"\"\n",
    "    Função que realiza a extensão por zero, recebemos o tamanho do filtro e \n",
    "    com base nele ampliamos o tamanho da imagem para posteriores operações\n",
    "    \"\"\"\n",
    "\n",
    "def Extensao_zero(image, kernel):\n",
    "    new_d = ((kernel//2)+1)\n",
    "    image_padded = np.zeros((image.shape[0]+new_d, image.shape[1]+new_d, image.shape[2]))\n",
    "    image_padded[new_d-1:-new_d+1,new_d-1:-new_d+1] = image\n",
    "    return np.int16(image_padded) "
   ]
  },
  {
   "cell_type": "code",
   "execution_count": 3,
   "metadata": {},
   "outputs": [],
   "source": [
    "\"\"\"\n",
    "    Na convolução recebemos como parâmetros os valores da imagem, filtros e stride\n",
    "    É realizado o calculo das dimensões que a imagem deverá possuir após a operação de convolução\n",
    "    tendo sempre como base o tamanho do núcle e o stride. A variavel sub é a responsável por \"armazenar\"\n",
    "    a área onde será feita a operação. \n",
    "    \"\"\"\n",
    "def Convolucao(image, k, stride, padding):\n",
    "    #k = np.flipud(np.fliplr(k))\n",
    "    x_row, x_col = image.shape[0], image.shape[1]\n",
    "    k_row, k_col = k.shape[0], k.shape[1]\n",
    "    out_row, out_col = (x_row - k_row)//stride + 1, (x_col - k_col)//stride + 1\n",
    "    out = np.int16(np.zeros((out_row, out_col)))\n",
    "    for x in range(k_row, out_row,stride):\n",
    "        for y in range(k_col, out_col,stride):\n",
    "            sub = (image[x : x + k_row, y : y + k_col])\n",
    "            out[x - k_row,y - k_col] = np.sum(sub * k)\n",
    "            \n",
    "    return out"
   ]
  },
  {
   "cell_type": "code",
   "execution_count": 4,
   "metadata": {},
   "outputs": [],
   "source": [
    "def func_ativacao(func_type, z):\n",
    "    if func_type == 'relu':\n",
    "        return z * (z > 0)\n",
    "    elif func_type == 'tanh':\n",
    "        z = (2/(1 + np.exp(-2*z)))-1\n",
    "        return z"
   ]
  },
  {
   "cell_type": "code",
   "execution_count": 5,
   "metadata": {},
   "outputs": [],
   "source": [
    "def Visualizar_fmap(image):\n",
    "    preto_abs = np.abs(image)\n",
    "    preto_abs -= preto_abs.min()\n",
    "    preto_abs *= 255 / preto_abs.max()\n",
    "    for camada in range(image.shape[2]):\n",
    "        plt.imshow(preto_abs[:,:,camada], cmap='gray') \n",
    "        plt.show()\n",
    "\n",
    "    #preto_min = image\n",
    "    #preto_min -= preto_min.min()\n",
    "    #preto_min *= 255 / preto_min.max()\n",
    "    \n",
    "    #for layer in range(image.shape[2]):\n",
    "        #plt.imshow(preto_min[:,:,layer], cmap='gray') \n",
    "        #plt.show()\n",
    "    "
   ]
  },
  {
   "cell_type": "code",
   "execution_count": 6,
   "metadata": {},
   "outputs": [],
   "source": [
    "\"\"\"\n",
    "    Implementa a camada convolucional utilizando bias(definido no arquivo csv) e função de ativação.\n",
    "    \"\"\"\n",
    "    \n",
    "def Camada_Convolucional(image,C,act_func, filters, stride, padding):\n",
    "    h_x = image.shape[0]\n",
    "    w_x = image.shape[1]\n",
    "    filter_size = int(math.sqrt(filters.shape[1] - 1))\n",
    "    h_filter = filter_size\n",
    "    w_filter = filter_size\n",
    "    h_out = int((h_x - h_filter + 2 * padding) // stride) + 1\n",
    "    w_out = int((w_x - w_filter + 2 * padding) // stride) + 1\n",
    "    fmap = np.zeros((h_out, w_out, C))\n",
    "    filtro = np.zeros((h_filter, w_filter, image.shape[2]))\n",
    "    linha = 0\n",
    "    for fmap_camada in range(C):\n",
    "        for camada in range(image.shape[2]):\n",
    "            filtro[:,:,camada] = filters[linha,1:].reshape((filter_size, filter_size))\n",
    "        bias = filters[linha,0]\n",
    "        if(padding==1):\n",
    "            fmap[1:-1,1:-1,fmap_camada] = func_ativacao(act_func, Convolucao(image,filtro, stride, padding) + bias)\n",
    "        else:\n",
    "            fmap[:,:,fmap_camada] = func_ativacao(act_func, Convolucao(image,filtro, stride, padding) + bias)\n",
    "        linha+=1\n",
    "    return fmap"
   ]
  },
  {
   "cell_type": "code",
   "execution_count": 7,
   "metadata": {},
   "outputs": [
    {
     "name": "stdout",
     "output_type": "stream",
     "text": [
      "Entre com um valor inteiro positivo para o stride(Casos onde o stride é maior que um e exite a extensão não foram tratados. Aumente o valor de stride apenas se não for usar extensão por zero) : 1\n",
      "Sua operaçao será feita com padding? 1(Sim) ou 0(Não): 1\n"
     ]
    },
    {
     "data": {
      "image/png": "[encoded data removed]",
      "text/plain": [
       "<Figure size 432x288 with 1 Axes>"
      ]
     },
     "metadata": {},
     "output_type": "display_data"
    },
    {
     "data": {
      "image/png": "[encoded data removed]",
      "text/plain": [
       "<Figure size 432x288 with 1 Axes>"
      ]
     },
     "metadata": {},
     "output_type": "display_data"
    },
    {
     "data": {
      "image/png": "[encoded data removed]",
      "text/plain": [
       "<Figure size 432x288 with 1 Axes>"
      ]
     },
     "metadata": {},
     "output_type": "display_data"
    },
    {
     "data": {
      "image/png": "[encoded data removed]",
      "text/plain": [
       "<Figure size 432x288 with 1 Axes>"
      ]
     },
     "metadata": {},
     "output_type": "display_data"
    },
    {
     "data": {
      "image/png": "[encoded data removed]",
      "text/plain": [
       "<Figure size 432x288 with 1 Axes>"
      ]
     },
     "metadata": {},
     "output_type": "display_data"
    }
   ],
   "source": [
    "img = io.imread('ImagensDeTeste/CNN1.png')\n",
    "convFilters = np.loadtxt('filtros.csv', delimiter=',', dtype=float, skiprows=1)\n",
    "img = color.gray2rgb(img)\n",
    "filter_size = int(math.sqrt(convFilters.shape[1] - 1))\n",
    "teste = img\n",
    "stride = int(input(\"Entre com um valor inteiro positivo para o stride(Casos onde o stride é maior que um e exite a extensão não foram tratados. Aumente o valor de stride apenas se não for usar extensão por zero) : \"))\n",
    "padding = int(input(\"Sua operaçao será feita com padding? 1(Sim) ou 0(Não): \"))\n",
    "if(padding==1):\n",
    "    teste = Extensao_zero(img,filter_size)\n",
    "teste = Camada_Convolucional(teste,convFilters.shape[0],'relu',convFilters,stride,padding)\n",
    "Visualizar_fmap(teste)\n"
   ]
  },
  {
   "cell_type": "code",
   "execution_count": null,
   "metadata": {},
   "outputs": [],
   "source": []
  }
 ],
 "metadata": {
  "kernelspec": {
   "display_name": "Python 3",
   "language": "python",
   "name": "python3"
  },
  "language_info": {
   "codemirror_mode": {
    "name": "ipython",
    "version": 3
   },
   "file_extension": ".py",
   "mimetype": "text/x-python",
   "name": "python",
   "nbconvert_exporter": "python",
   "pygments_lexer": "ipython3",
   "version": "3.6.4"
  }
 },
 "nbformat": 4,
 "nbformat_minor": 2
}
